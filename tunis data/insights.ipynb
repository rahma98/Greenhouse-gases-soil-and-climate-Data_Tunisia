{
 "cells": [
  {
   "cell_type": "code",
   "execution_count": 5,
   "id": "aecc3ba6-be49-4792-987c-454c67e1f5cc",
   "metadata": {},
   "outputs": [],
   "source": [
    "import pandas as pd \n"
   ]
  },
  {
   "cell_type": "code",
   "execution_count": 9,
   "id": "30442e70-5f94-4559-9c2a-105dc8e0f64b",
   "metadata": {},
   "outputs": [],
   "source": [
    "data = pd.read_csv('gabes/soil_data.csv')"
   ]
  },
  {
   "cell_type": "code",
   "execution_count": null,
   "id": "38b8390c-1458-4896-98ad-5188e3f2bfee",
   "metadata": {},
   "outputs": [],
   "source": []
  },
  {
   "cell_type": "code",
   "execution_count": null,
   "id": "7020fd77-f1e8-4fd1-ae2a-55855115a84a",
   "metadata": {},
   "outputs": [],
   "source": []
  }
 ],
 "metadata": {
  "kernelspec": {
   "display_name": "Python 3 (ipykernel)",
   "language": "python",
   "name": "python3"
  },
  "language_info": {
   "codemirror_mode": {
    "name": "ipython",
    "version": 3
   },
   "file_extension": ".py",
   "mimetype": "text/x-python",
   "name": "python",
   "nbconvert_exporter": "python",
   "pygments_lexer": "ipython3",
   "version": "3.11.9"
  }
 },
 "nbformat": 4,
 "nbformat_minor": 5
}
